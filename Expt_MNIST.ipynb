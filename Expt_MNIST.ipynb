{
  "nbformat": 4,
  "nbformat_minor": 0,
  "metadata": {
    "colab": {
      "name": "Expt-MNIST.ipynb",
      "provenance": [],
      "collapsed_sections": [],
      "authorship_tag": "ABX9TyPHpEsktk0855deMRJ3OyZk",
      "include_colab_link": true
    },
    "kernelspec": {
      "name": "python3",
      "display_name": "Python 3"
    },
    "accelerator": "GPU"
  },
  "cells": [
    {
      "cell_type": "markdown",
      "metadata": {
        "id": "view-in-github",
        "colab_type": "text"
      },
      "source": [
        "<a href=\"https://colab.research.google.com/github/nirjhar-das/Activated_Machines/blob/master/Expt_MNIST.ipynb\" target=\"_parent\"><img src=\"https://colab.research.google.com/assets/colab-badge.svg\" alt=\"Open In Colab\"/></a>"
      ]
    },
    {
      "cell_type": "code",
      "metadata": {
        "id": "RsfAgnpHyE7B",
        "colab_type": "code",
        "colab": {}
      },
      "source": [
        "import tensorflow as tf\n",
        "import numpy as np\n",
        "from matplotlib import pyplot as plt\n",
        "from keras.datasets import mnist\n",
        "from sklearn.model_selection import train_test_split"
      ],
      "execution_count": 1,
      "outputs": []
    },
    {
      "cell_type": "code",
      "metadata": {
        "id": "b-A5eWjfBtHp",
        "colab_type": "code",
        "colab": {
          "base_uri": "https://localhost:8080/",
          "height": 51
        },
        "outputId": "3c7806db-5692-4a57-8ba3-d51e18c496a6"
      },
      "source": [
        "(X_train, Y_train), (X_test, Y_test) = mnist.load_data()"
      ],
      "execution_count": 2,
      "outputs": [
        {
          "output_type": "stream",
          "text": [
            "Downloading data from https://storage.googleapis.com/tensorflow/tf-keras-datasets/mnist.npz\n",
            "11493376/11490434 [==============================] - 0s 0us/step\n"
          ],
          "name": "stdout"
        }
      ]
    },
    {
      "cell_type": "code",
      "metadata": {
        "id": "9ukYV5IRLj0R",
        "colab_type": "code",
        "colab": {
          "base_uri": "https://localhost:8080/",
          "height": 513
        },
        "outputId": "505d36d6-9a13-4427-c350-93b14270cb01"
      },
      "source": [
        "for i in range(2):\n",
        "  plt.imshow(X_train[np.random.randint(0, 60000), :, :], cmap='Greys_r')\n",
        "  plt.show()"
      ],
      "execution_count": null,
      "outputs": [
        {
          "output_type": "display_data",
          "data": {
            "image/png": "[encoded data removed]",
            "text/plain": [
              "<Figure size 432x288 with 1 Axes>"
            ]
          },
          "metadata": {
            "tags": [],
            "needs_background": "light"
          }
        },
        {
          "output_type": "display_data",
          "data": {
            "image/png": "[encoded data removed]",
            "text/plain": [
              "<Figure size 432x288 with 1 Axes>"
            ]
          },
          "metadata": {
            "tags": [],
            "needs_background": "light"
          }
        }
      ]
    },
    {
      "cell_type": "code",
      "metadata": {
        "id": "c2EU8r3sMRiG",
        "colab_type": "code",
        "colab": {
          "base_uri": "https://localhost:8080/",
          "height": 34
        },
        "outputId": "26208c9a-d5cb-4924-9af3-d41f6ce29f55"
      },
      "source": [
        "X_train = X_train[..., np.newaxis]\n",
        "X_test = X_test[..., np.newaxis]\n",
        "print(X_train.shape)"
      ],
      "execution_count": 3,
      "outputs": [
        {
          "output_type": "stream",
          "text": [
            "(60000, 28, 28, 1)\n"
          ],
          "name": "stdout"
        }
      ]
    },
    {
      "cell_type": "code",
      "metadata": {
        "id": "EtspUvgEUkVH",
        "colab_type": "code",
        "colab": {}
      },
      "source": [
        "X_train = X_train/255.0"
      ],
      "execution_count": 4,
      "outputs": []
    },
    {
      "cell_type": "code",
      "metadata": {
        "id": "gUGaYtse5Fny",
        "colab_type": "code",
        "colab": {}
      },
      "source": [
        "inputs = tf.keras.Input(shape=(28, 28, 1))\n",
        "A = tf.keras.layers.Conv2D(filters=16, kernel_size=(5, 5), strides=(1, 1), activation='relu')(inputs)\n",
        "A = tf.keras.layers.Conv2D(filters=32, kernel_size=(3, 3), strides=(1, 1), activation='relu')(A)\n",
        "A = tf.keras.layers.MaxPooling2D(pool_size=(3, 3), strides=(1, 1))(A)\n",
        "A = tf.keras.layers.Conv2D(filters=64, kernel_size=(3, 3), strides=(1, 1), activation='relu')(A)\n",
        "A = tf.keras.layers.Conv2D(filters=128, kernel_size=(3, 3), strides=(1, 1), activation='relu')(A)\n",
        "A = tf.keras.layers.MaxPooling2D(pool_size=(3, 3), strides=(1, 1))(A)\n",
        "A = tf.keras.layers.Conv2D(filters=128, kernel_size=(3, 3), strides=(1, 1), activation='relu')(A)\n",
        "A = tf.keras.layers.Conv2D(filters=128, kernel_size=(3, 3), strides=(1, 1), activation='relu')(A)\n",
        "A = tf.keras.layers.MaxPooling2D(pool_size=(3, 3), strides=(1, 1))(A)\n",
        "A = tf.keras.layers.Conv2D(filters=256, kernel_size=(3, 3), strides=(1, 1), activation='relu')(A)\n",
        "A = tf.keras.layers.MaxPooling2D(pool_size=(3, 3), strides=(1, 1))(A)\n",
        "A = tf.keras.layers.Flatten()(A)\n",
        "A = tf.keras.layers.Dense(128, activation='relu')(A)\n",
        "output = tf.keras.layers.Dense(10, activation='relu')(A)"
      ],
      "execution_count": null,
      "outputs": []
    },
    {
      "cell_type": "code",
      "metadata": {
        "id": "SPW8Z5mpGcJC",
        "colab_type": "code",
        "colab": {
          "base_uri": "https://localhost:8080/",
          "height": 663
        },
        "outputId": "90f9dcb3-9443-46c8-f4c3-454181073aad"
      },
      "source": [
        "model = tf.keras.Model(inputs=inputs, outputs= output, name='MNIST_Model1')\n",
        "model.compile(loss= tf.keras.losses.SparseCategoricalCrossentropy(from_logits=True), optimizer= tf.keras.optimizers.Adam(), metrics=['accuracy'])\n",
        "model.summary()"
      ],
      "execution_count": null,
      "outputs": [
        {
          "output_type": "stream",
          "text": [
            "Model: \"MNIST_Model1\"\n",
            "_________________________________________________________________\n",
            "Layer (type)                 Output Shape              Param #   \n",
            "=================================================================\n",
            "input_5 (InputLayer)         [(None, 28, 28, 1)]       0         \n",
            "_________________________________________________________________\n",
            "conv2d_28 (Conv2D)           (None, 24, 24, 16)        416       \n",
            "_________________________________________________________________\n",
            "conv2d_29 (Conv2D)           (None, 22, 22, 32)        4640      \n",
            "_________________________________________________________________\n",
            "max_pooling2d_16 (MaxPooling (None, 20, 20, 32)        0         \n",
            "_________________________________________________________________\n",
            "conv2d_30 (Conv2D)           (None, 18, 18, 64)        18496     \n",
            "_________________________________________________________________\n",
            "conv2d_31 (Conv2D)           (None, 16, 16, 128)       73856     \n",
            "_________________________________________________________________\n",
            "max_pooling2d_17 (MaxPooling (None, 14, 14, 128)       0         \n",
            "_________________________________________________________________\n",
            "conv2d_32 (Conv2D)           (None, 12, 12, 128)       147584    \n",
            "_________________________________________________________________\n",
            "conv2d_33 (Conv2D)           (None, 10, 10, 128)       147584    \n",
            "_________________________________________________________________\n",
            "max_pooling2d_18 (MaxPooling (None, 8, 8, 128)         0         \n",
            "_________________________________________________________________\n",
            "conv2d_34 (Conv2D)           (None, 6, 6, 256)         295168    \n",
            "_________________________________________________________________\n",
            "max_pooling2d_19 (MaxPooling (None, 4, 4, 256)         0         \n",
            "_________________________________________________________________\n",
            "flatten_4 (Flatten)          (None, 4096)              0         \n",
            "_________________________________________________________________\n",
            "dense_8 (Dense)              (None, 128)               524416    \n",
            "_________________________________________________________________\n",
            "dense_9 (Dense)              (None, 10)                1290      \n",
            "=================================================================\n",
            "Total params: 1,213,450\n",
            "Trainable params: 1,213,450\n",
            "Non-trainable params: 0\n",
            "_________________________________________________________________\n"
          ],
          "name": "stdout"
        }
      ]
    },
    {
      "cell_type": "code",
      "metadata": {
        "id": "K5ZtWodiOxZr",
        "colab_type": "code",
        "colab": {
          "base_uri": "https://localhost:8080/",
          "height": 564
        },
        "outputId": "8d8c4b24-ec5e-43ca-b8c9-7d06afedf729"
      },
      "source": [
        "history1 = model.fit(x=X_train, y=Y_train, batch_size=2048, epochs=15, validation_split=0.25, verbose=2)"
      ],
      "execution_count": null,
      "outputs": [
        {
          "output_type": "stream",
          "text": [
            "Epoch 1/15\n",
            "WARNING:tensorflow:Callbacks method `on_train_batch_end` is slow compared to the batch time (batch time: 0.0792s vs `on_train_batch_end` time: 0.1970s). Check your callbacks.\n",
            "22/22 - 7s - loss: 1.9933 - accuracy: 0.3088 - val_loss: 1.6902 - val_accuracy: 0.4641\n",
            "Epoch 2/15\n",
            "22/22 - 7s - loss: 1.3653 - accuracy: 0.5789 - val_loss: 1.1987 - val_accuracy: 0.6257\n",
            "Epoch 3/15\n",
            "22/22 - 7s - loss: 1.1096 - accuracy: 0.6528 - val_loss: 1.0825 - val_accuracy: 0.6643\n",
            "Epoch 4/15\n",
            "22/22 - 7s - loss: 1.0351 - accuracy: 0.6734 - val_loss: 1.0152 - val_accuracy: 0.6817\n",
            "Epoch 5/15\n",
            "22/22 - 7s - loss: 0.9963 - accuracy: 0.6834 - val_loss: 0.9880 - val_accuracy: 0.6855\n",
            "Epoch 6/15\n",
            "22/22 - 7s - loss: 0.9801 - accuracy: 0.6876 - val_loss: 0.9786 - val_accuracy: 0.6847\n",
            "Epoch 7/15\n",
            "22/22 - 7s - loss: 0.9722 - accuracy: 0.6892 - val_loss: 0.9707 - val_accuracy: 0.6873\n",
            "Epoch 8/15\n",
            "22/22 - 7s - loss: 0.9651 - accuracy: 0.6904 - val_loss: 0.9680 - val_accuracy: 0.6879\n",
            "Epoch 9/15\n",
            "22/22 - 7s - loss: 0.9656 - accuracy: 0.6910 - val_loss: 0.9838 - val_accuracy: 0.6860\n",
            "Epoch 10/15\n",
            "22/22 - 7s - loss: 0.9628 - accuracy: 0.6916 - val_loss: 0.9557 - val_accuracy: 0.6931\n",
            "Epoch 11/15\n",
            "22/22 - 7s - loss: 0.9493 - accuracy: 0.6947 - val_loss: 0.9583 - val_accuracy: 0.6931\n",
            "Epoch 12/15\n",
            "22/22 - 7s - loss: 0.9461 - accuracy: 0.6953 - val_loss: 0.9546 - val_accuracy: 0.6934\n",
            "Epoch 13/15\n",
            "22/22 - 7s - loss: 0.9411 - accuracy: 0.6969 - val_loss: 0.9535 - val_accuracy: 0.6919\n",
            "Epoch 14/15\n",
            "22/22 - 7s - loss: 0.9388 - accuracy: 0.6968 - val_loss: 0.9490 - val_accuracy: 0.6948\n",
            "Epoch 15/15\n",
            "22/22 - 7s - loss: 0.9351 - accuracy: 0.6980 - val_loss: 0.9454 - val_accuracy: 0.6958\n"
          ],
          "name": "stdout"
        }
      ]
    },
    {
      "cell_type": "code",
      "metadata": {
        "id": "Q7tUIoSKV9Wj",
        "colab_type": "code",
        "colab": {}
      },
      "source": [
        "def plot_train_history(history, train_metrics, val_metrics):\n",
        "    plt.plot(history.history.get(train_metrics),'-o')\n",
        "    plt.plot(history.history.get(val_metrics),'-o')\n",
        "    plt.ylabel(train_metrics)\n",
        "    plt.xlabel('Epochs')\n",
        "    plt.legend(['train', 'validation'])\n"
      ],
      "execution_count": 5,
      "outputs": []
    },
    {
      "cell_type": "code",
      "metadata": {
        "id": "zHFRZxMtWDUB",
        "colab_type": "code",
        "colab": {
          "base_uri": "https://localhost:8080/",
          "height": 279
        },
        "outputId": "ff3bea5f-ae6d-49ab-a1e0-e755efc19560"
      },
      "source": [
        "plt.figure(figsize=(12,4))\n",
        "plt.subplot(1,2,1)\n",
        "plot_train_history(history1, 'loss','val_loss')\n",
        "plt.subplot(1,2,2)\n",
        "plot_train_history(history1, 'accuracy','val_accuracy')"
      ],
      "execution_count": null,
      "outputs": [
        {
          "output_type": "display_data",
          "data": {
            "image/png": "[encoded data removed]",
            "text/plain": [
              "<Figure size 864x288 with 2 Axes>"
            ]
          },
          "metadata": {
            "tags": [],
            "needs_background": "light"
          }
        }
      ]
    },
    {
      "cell_type": "code",
      "metadata": {
        "id": "iVk-KOnWOfMm",
        "colab_type": "code",
        "colab": {}
      },
      "source": [
        "class TestActivation(tf.keras.layers.Layer):\n",
        "  def __init__(self, Lambda = 0.5):\n",
        "    self.L = tf.Variable(Lambda, dtype='float32', trainable=True)\n",
        "    super(TestActivation, self).__init__()\n",
        "\n",
        "  def call(self, inputs):\n",
        "    A = self.L*tf.nn.relu(inputs) + (1 - self.L)*tf.nn.tanh(inputs)\n",
        "    return A\n"
      ],
      "execution_count": 6,
      "outputs": []
    },
    {
      "cell_type": "code",
      "metadata": {
        "id": "Zg-hVE-0tEwl",
        "colab_type": "code",
        "colab": {}
      },
      "source": [
        "init_val = np.random.uniform(low=0.0000001, high=1.0, size=8)\n",
        "T = [TestActivation(init_val[i]) for i in range(8)]"
      ],
      "execution_count": 18,
      "outputs": []
    },
    {
      "cell_type": "code",
      "metadata": {
        "id": "5HhELwGV6k0H",
        "colab_type": "code",
        "colab": {
          "base_uri": "https://localhost:8080/",
          "height": 153
        },
        "outputId": "25708a0e-4ce4-4396-8d74-1f21ce73309b"
      },
      "source": [
        "for i in init_val:\n",
        "  print(i)"
      ],
      "execution_count": 19,
      "outputs": [
        {
          "output_type": "stream",
          "text": [
            "0.13698217415249042\n",
            "0.4117013862300447\n",
            "0.9850103916941181\n",
            "0.9351841391401383\n",
            "0.06778966844575167\n",
            "0.8767559931100972\n",
            "0.041266794809882656\n",
            "0.10928308077653308\n"
          ],
          "name": "stdout"
        }
      ]
    },
    {
      "cell_type": "code",
      "metadata": {
        "id": "ooghYArCQZ9n",
        "colab_type": "code",
        "colab": {}
      },
      "source": [
        "inputs1 = tf.keras.Input(shape=(28, 28, 1))\n",
        "B = tf.keras.layers.Conv2D(filters=16, kernel_size=(5, 5), strides=(1, 1))(inputs1)\n",
        "B = T[0](B)\n",
        "B = tf.keras.layers.Conv2D(filters=32, kernel_size=(3, 3), strides=(1, 1))(B)\n",
        "B = T[1](B)\n",
        "B = tf.keras.layers.MaxPooling2D(pool_size=(3, 3), strides=(1, 1))(B)\n",
        "B = tf.keras.layers.Conv2D(filters=64, kernel_size=(3, 3), strides=(1, 1))(B)\n",
        "B = T[2](B)\n",
        "B = tf.keras.layers.Conv2D(filters=128, kernel_size=(3, 3), strides=(1, 1))(B)\n",
        "B = T[3](B)\n",
        "B = tf.keras.layers.MaxPooling2D(pool_size=(3, 3), strides=(1, 1))(B)\n",
        "B = tf.keras.layers.Conv2D(filters=128, kernel_size=(3, 3), strides=(1, 1))(B)\n",
        "B = T[4](B)\n",
        "B = tf.keras.layers.Conv2D(filters=128, kernel_size=(3, 3), strides=(1, 1))(B)\n",
        "B = T[5](B)\n",
        "B = tf.keras.layers.MaxPooling2D(pool_size=(3, 3), strides=(1, 1))(B)\n",
        "B = tf.keras.layers.Conv2D(filters=256, kernel_size=(3, 3), strides=(1, 1))(B)\n",
        "B = T[6](B)\n",
        "B = tf.keras.layers.MaxPooling2D(pool_size=(3, 3), strides=(1, 1))(B)\n",
        "B = tf.keras.layers.Flatten()(B)\n",
        "B = tf.keras.layers.Dense(128)(B)\n",
        "B = T[7](B)\n",
        "output1 = tf.keras.layers.Dense(10, activation='relu')(B)\n"
      ],
      "execution_count": 20,
      "outputs": []
    },
    {
      "cell_type": "code",
      "metadata": {
        "id": "Px1g8cIuRl3i",
        "colab_type": "code",
        "colab": {
          "base_uri": "https://localhost:8080/",
          "height": 935
        },
        "outputId": "f1c80779-b055-4d45-cb95-f1f5f7630216"
      },
      "source": [
        "model2 = tf.keras.Model(inputs=inputs1, outputs= output1, name='MNIST_Model2')\n",
        "model2.compile(loss= tf.keras.losses.SparseCategoricalCrossentropy(from_logits=True), optimizer= 'adam', metrics=['accuracy'])\n",
        "model2.summary()"
      ],
      "execution_count": 21,
      "outputs": [
        {
          "output_type": "stream",
          "text": [
            "Model: \"MNIST_Model2\"\n",
            "_________________________________________________________________\n",
            "Layer (type)                 Output Shape              Param #   \n",
            "=================================================================\n",
            "input_2 (InputLayer)         [(None, 28, 28, 1)]       0         \n",
            "_________________________________________________________________\n",
            "conv2d_7 (Conv2D)            (None, 24, 24, 16)        416       \n",
            "_________________________________________________________________\n",
            "test_activation_8 (TestActiv (None, 24, 24, 16)        1         \n",
            "_________________________________________________________________\n",
            "conv2d_8 (Conv2D)            (None, 22, 22, 32)        4640      \n",
            "_________________________________________________________________\n",
            "test_activation_9 (TestActiv (None, 22, 22, 32)        1         \n",
            "_________________________________________________________________\n",
            "max_pooling2d_4 (MaxPooling2 (None, 20, 20, 32)        0         \n",
            "_________________________________________________________________\n",
            "conv2d_9 (Conv2D)            (None, 18, 18, 64)        18496     \n",
            "_________________________________________________________________\n",
            "test_activation_10 (TestActi (None, 18, 18, 64)        1         \n",
            "_________________________________________________________________\n",
            "conv2d_10 (Conv2D)           (None, 16, 16, 128)       73856     \n",
            "_________________________________________________________________\n",
            "test_activation_11 (TestActi (None, 16, 16, 128)       1         \n",
            "_________________________________________________________________\n",
            "max_pooling2d_5 (MaxPooling2 (None, 14, 14, 128)       0         \n",
            "_________________________________________________________________\n",
            "conv2d_11 (Conv2D)           (None, 12, 12, 128)       147584    \n",
            "_________________________________________________________________\n",
            "test_activation_12 (TestActi (None, 12, 12, 128)       1         \n",
            "_________________________________________________________________\n",
            "conv2d_12 (Conv2D)           (None, 10, 10, 128)       147584    \n",
            "_________________________________________________________________\n",
            "test_activation_13 (TestActi (None, 10, 10, 128)       1         \n",
            "_________________________________________________________________\n",
            "max_pooling2d_6 (MaxPooling2 (None, 8, 8, 128)         0         \n",
            "_________________________________________________________________\n",
            "conv2d_13 (Conv2D)           (None, 6, 6, 256)         295168    \n",
            "_________________________________________________________________\n",
            "test_activation_14 (TestActi (None, 6, 6, 256)         1         \n",
            "_________________________________________________________________\n",
            "max_pooling2d_7 (MaxPooling2 (None, 4, 4, 256)         0         \n",
            "_________________________________________________________________\n",
            "flatten_1 (Flatten)          (None, 4096)              0         \n",
            "_________________________________________________________________\n",
            "dense_2 (Dense)              (None, 128)               524416    \n",
            "_________________________________________________________________\n",
            "test_activation_15 (TestActi (None, 128)               1         \n",
            "_________________________________________________________________\n",
            "dense_3 (Dense)              (None, 10)                1290      \n",
            "=================================================================\n",
            "Total params: 1,213,458\n",
            "Trainable params: 1,213,458\n",
            "Non-trainable params: 0\n",
            "_________________________________________________________________\n"
          ],
          "name": "stdout"
        }
      ]
    },
    {
      "cell_type": "code",
      "metadata": {
        "id": "ppm9reMfT7B2",
        "colab_type": "code",
        "colab": {
          "base_uri": "https://localhost:8080/",
          "height": 564
        },
        "outputId": "9716b4b9-1e1d-4e80-e910-e7403ab66d48"
      },
      "source": [
        "history2 = model2.fit(x=X_train, y=Y_train, batch_size=2048, epochs=15, validation_split=0.25, verbose=2)"
      ],
      "execution_count": 22,
      "outputs": [
        {
          "output_type": "stream",
          "text": [
            "Epoch 1/15\n",
            "WARNING:tensorflow:Callbacks method `on_train_batch_end` is slow compared to the batch time (batch time: 0.2397s vs `on_train_batch_end` time: 0.5362s). Check your callbacks.\n",
            "22/22 - 18s - loss: 1.4701 - accuracy: 0.4924 - val_loss: 0.5187 - val_accuracy: 0.8275\n",
            "Epoch 2/15\n",
            "22/22 - 18s - loss: 0.3066 - accuracy: 0.9061 - val_loss: 0.1766 - val_accuracy: 0.9455\n",
            "Epoch 3/15\n",
            "22/22 - 18s - loss: 0.1411 - accuracy: 0.9569 - val_loss: 0.1192 - val_accuracy: 0.9629\n",
            "Epoch 4/15\n",
            "22/22 - 18s - loss: 0.0987 - accuracy: 0.9696 - val_loss: 0.0861 - val_accuracy: 0.9735\n",
            "Epoch 5/15\n",
            "22/22 - 18s - loss: 0.0697 - accuracy: 0.9792 - val_loss: 0.0691 - val_accuracy: 0.9785\n",
            "Epoch 6/15\n",
            "22/22 - 18s - loss: 0.0554 - accuracy: 0.9829 - val_loss: 0.0582 - val_accuracy: 0.9829\n",
            "Epoch 7/15\n",
            "22/22 - 18s - loss: 0.0446 - accuracy: 0.9864 - val_loss: 0.0517 - val_accuracy: 0.9841\n",
            "Epoch 8/15\n",
            "22/22 - 18s - loss: 0.0370 - accuracy: 0.9887 - val_loss: 0.0470 - val_accuracy: 0.9860\n",
            "Epoch 9/15\n",
            "22/22 - 18s - loss: 0.0331 - accuracy: 0.9899 - val_loss: 0.0459 - val_accuracy: 0.9867\n",
            "Epoch 10/15\n",
            "22/22 - 18s - loss: 0.0288 - accuracy: 0.9912 - val_loss: 0.0460 - val_accuracy: 0.9867\n",
            "Epoch 11/15\n",
            "22/22 - 18s - loss: 0.0282 - accuracy: 0.9916 - val_loss: 0.0438 - val_accuracy: 0.9873\n",
            "Epoch 12/15\n",
            "22/22 - 18s - loss: 0.0224 - accuracy: 0.9933 - val_loss: 0.0403 - val_accuracy: 0.9883\n",
            "Epoch 13/15\n",
            "22/22 - 18s - loss: 0.0227 - accuracy: 0.9932 - val_loss: 0.0416 - val_accuracy: 0.9871\n",
            "Epoch 14/15\n",
            "22/22 - 18s - loss: 0.0205 - accuracy: 0.9938 - val_loss: 0.0408 - val_accuracy: 0.9878\n",
            "Epoch 15/15\n",
            "22/22 - 18s - loss: 0.0179 - accuracy: 0.9948 - val_loss: 0.0401 - val_accuracy: 0.9888\n"
          ],
          "name": "stdout"
        }
      ]
    },
    {
      "cell_type": "code",
      "metadata": {
        "id": "kmJZn-dccdqP",
        "colab_type": "code",
        "colab": {
          "base_uri": "https://localhost:8080/",
          "height": 153
        },
        "outputId": "ca33fd5f-de21-42bd-f9f5-eb65672a0fb8"
      },
      "source": [
        "for t in T :\n",
        "  print(t.L)"
      ],
      "execution_count": 23,
      "outputs": [
        {
          "output_type": "stream",
          "text": [
            "<tf.Variable 'Variable:0' shape=() dtype=float32, numpy=0.11233873>\n",
            "<tf.Variable 'Variable:0' shape=() dtype=float32, numpy=0.3947802>\n",
            "<tf.Variable 'Variable:0' shape=() dtype=float32, numpy=0.9747885>\n",
            "<tf.Variable 'Variable:0' shape=() dtype=float32, numpy=0.9302418>\n",
            "<tf.Variable 'Variable:0' shape=() dtype=float32, numpy=0.031054838>\n",
            "<tf.Variable 'Variable:0' shape=() dtype=float32, numpy=0.856868>\n",
            "<tf.Variable 'Variable:0' shape=() dtype=float32, numpy=-0.019159393>\n",
            "<tf.Variable 'Variable:0' shape=() dtype=float32, numpy=0.12085069>\n"
          ],
          "name": "stdout"
        }
      ]
    },
    {
      "cell_type": "code",
      "metadata": {
        "id": "M25yf_08cwwz",
        "colab_type": "code",
        "colab": {
          "base_uri": "https://localhost:8080/",
          "height": 279
        },
        "outputId": "cebc617c-9e12-4466-f1c6-21cb6dfd0e4c"
      },
      "source": [
        "plt.figure(figsize=(12,4))\n",
        "plt.subplot(1,2,1)\n",
        "plot_train_history(history2, 'loss','val_loss')\n",
        "plt.subplot(1,2,2)\n",
        "plot_train_history(history2, 'accuracy','val_accuracy')"
      ],
      "execution_count": 24,
      "outputs": [
        {
          "output_type": "display_data",
          "data": {
            "image/png": "[encoded data removed]",
            "text/plain": [
              "<Figure size 864x288 with 2 Axes>"
            ]
          },
          "metadata": {
            "tags": [],
            "needs_background": "light"
          }
        }
      ]
    },
    {
      "cell_type": "code",
      "metadata": {
        "id": "mp08vzqUUY03",
        "colab_type": "code",
        "colab": {}
      },
      "source": [
        "X_test = X_test/255.0"
      ],
      "execution_count": 14,
      "outputs": []
    },
    {
      "cell_type": "code",
      "metadata": {
        "id": "d0zerFScc5mz",
        "colab_type": "code",
        "colab": {}
      },
      "source": [
        "from sklearn.metrics import accuracy_score"
      ],
      "execution_count": 15,
      "outputs": []
    },
    {
      "cell_type": "code",
      "metadata": {
        "id": "YTIDR4yYTmw2",
        "colab_type": "code",
        "colab": {
          "base_uri": "https://localhost:8080/",
          "height": 214
        },
        "outputId": "849ce291-bd7f-4d01-a493-9a92609d4d68"
      },
      "source": [
        "Y_pred = model.predict(x=X_test)\n",
        "Y_label = np.argmax(Y_pred, axis=1)\n",
        "acc_generic = accuracy_score(Y_test, Y_label)\n",
        "print(acc_generic)"
      ],
      "execution_count": 16,
      "outputs": [
        {
          "output_type": "error",
          "ename": "NameError",
          "evalue": "ignored",
          "traceback": [
            "\u001b[0;31m---------------------------------------------------------------------------\u001b[0m",
            "\u001b[0;31mNameError\u001b[0m                                 Traceback (most recent call last)",
            "\u001b[0;32m<ipython-input-16-7d9b80020d98>\u001b[0m in \u001b[0;36m<module>\u001b[0;34m()\u001b[0m\n\u001b[0;32m----> 1\u001b[0;31m \u001b[0mY_pred\u001b[0m \u001b[0;34m=\u001b[0m \u001b[0mmodel\u001b[0m\u001b[0;34m.\u001b[0m\u001b[0mpredict\u001b[0m\u001b[0;34m(\u001b[0m\u001b[0mx\u001b[0m\u001b[0;34m=\u001b[0m\u001b[0mX_test\u001b[0m\u001b[0;34m)\u001b[0m\u001b[0;34m\u001b[0m\u001b[0;34m\u001b[0m\u001b[0m\n\u001b[0m\u001b[1;32m      2\u001b[0m \u001b[0mY_label\u001b[0m \u001b[0;34m=\u001b[0m \u001b[0mnp\u001b[0m\u001b[0;34m.\u001b[0m\u001b[0margmax\u001b[0m\u001b[0;34m(\u001b[0m\u001b[0mY_pred\u001b[0m\u001b[0;34m,\u001b[0m \u001b[0maxis\u001b[0m\u001b[0;34m=\u001b[0m\u001b[0;36m1\u001b[0m\u001b[0;34m)\u001b[0m\u001b[0;34m\u001b[0m\u001b[0;34m\u001b[0m\u001b[0m\n\u001b[1;32m      3\u001b[0m \u001b[0macc_generic\u001b[0m \u001b[0;34m=\u001b[0m \u001b[0maccuracy_score\u001b[0m\u001b[0;34m(\u001b[0m\u001b[0mY_test\u001b[0m\u001b[0;34m,\u001b[0m \u001b[0mY_label\u001b[0m\u001b[0;34m)\u001b[0m\u001b[0;34m\u001b[0m\u001b[0;34m\u001b[0m\u001b[0m\n\u001b[1;32m      4\u001b[0m \u001b[0mprint\u001b[0m\u001b[0;34m(\u001b[0m\u001b[0macc_generic\u001b[0m\u001b[0;34m)\u001b[0m\u001b[0;34m\u001b[0m\u001b[0;34m\u001b[0m\u001b[0m\n",
            "\u001b[0;31mNameError\u001b[0m: name 'model' is not defined"
          ]
        }
      ]
    },
    {
      "cell_type": "code",
      "metadata": {
        "id": "uF6G9qv-dR9A",
        "colab_type": "code",
        "colab": {
          "base_uri": "https://localhost:8080/",
          "height": 34
        },
        "outputId": "5df8e976-ec81-4821-b4ce-e1c7b99c322a"
      },
      "source": [
        "Y_pred_cus = model2.predict(x=X_test)\n",
        "Y_label_cus = np.argmax(Y_pred_cus, axis=1)\n",
        "acc_cus = accuracy_score(Y_test, Y_label_cus)\n",
        "print(acc_cus)"
      ],
      "execution_count": 25,
      "outputs": [
        {
          "output_type": "stream",
          "text": [
            "0.9918\n"
          ],
          "name": "stdout"
        }
      ]
    },
    {
      "cell_type": "code",
      "metadata": {
        "id": "2Pce9JmWcwg0",
        "colab_type": "code",
        "colab": {}
      },
      "source": [
        ""
      ],
      "execution_count": null,
      "outputs": []
    }
  ]
}