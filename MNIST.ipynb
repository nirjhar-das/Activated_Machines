{
  "nbformat": 4,
  "nbformat_minor": 0,
  "metadata": {
    "colab": {
      "name": "MNIST.ipynb",
      "provenance": [],
      "collapsed_sections": [],
      "authorship_tag": "ABX9TyPABEiMXZHgkfvFnhjsxFnQ",
      "include_colab_link": true
    },
    "kernelspec": {
      "name": "python3",
      "display_name": "Python 3"
    },
    "accelerator": "GPU"
  },
  "cells": [
    {
      "cell_type": "markdown",
      "metadata": {
        "id": "view-in-github",
        "colab_type": "text"
      },
      "source": [
        "<a href=\"https://colab.research.google.com/github/nirjhar-das/Activated_Machines/blob/master/MNIST.ipynb\" target=\"_parent\"><img src=\"https://colab.research.google.com/assets/colab-badge.svg\" alt=\"Open In Colab\"/></a>"
      ]
    },
    {
      "cell_type": "code",
      "metadata": {
        "id": "RsfAgnpHyE7B",
        "colab_type": "code",
        "colab": {}
      },
      "source": [
        "import tensorflow as tf\n",
        "import numpy as np\n",
        "from zipfile import ZipFile\n",
        "import pandas as pd\n",
        "import cv2 as cv\n",
        "from matplotlib import pyplot as plt\n",
        "from keras.datasets import mnist\n",
        "from sklearn.model_selection import train_test_split"
      ],
      "execution_count": 1,
      "outputs": []
    },
    {
      "cell_type": "code",
      "metadata": {
        "id": "b-A5eWjfBtHp",
        "colab_type": "code",
        "colab": {
          "base_uri": "https://localhost:8080/",
          "height": 51
        },
        "outputId": "139a2119-a362-4c1d-ca3c-bf4020d417cb"
      },
      "source": [
        "(X_train, Y_train), (X_test, Y_test) = mnist.load_data()"
      ],
      "execution_count": 3,
      "outputs": [
        {
          "output_type": "stream",
          "text": [
            "Downloading data from https://storage.googleapis.com/tensorflow/tf-keras-datasets/mnist.npz\n",
            "11493376/11490434 [==============================] - 0s 0us/step\n"
          ],
          "name": "stdout"
        }
      ]
    },
    {
      "cell_type": "code",
      "metadata": {
        "id": "c2EU8r3sMRiG",
        "colab_type": "code",
        "colab": {
          "base_uri": "https://localhost:8080/",
          "height": 34
        },
        "outputId": "bfd5b44c-669d-4c34-a0d7-4fa60f01abb4"
      },
      "source": [
        "X_train = X_train[..., np.newaxis]\n",
        "X_test = X_test[..., np.newaxis]\n",
        "print(X_train.shape)"
      ],
      "execution_count": 14,
      "outputs": [
        {
          "output_type": "stream",
          "text": [
            "(60000, 28, 28, 1)\n"
          ],
          "name": "stdout"
        }
      ]
    },
    {
      "cell_type": "code",
      "metadata": {
        "id": "9ukYV5IRLj0R",
        "colab_type": "code",
        "colab": {
          "base_uri": "https://localhost:8080/",
          "height": 513
        },
        "outputId": "07923165-50e3-44c1-d9bb-2e125c887c97"
      },
      "source": [
        "for i in range(2):\n",
        "  plt.imshow(X_train[np.random.randint(0, 60000), :, :], cmap='Greys_r')\n",
        "  plt.show()"
      ],
      "execution_count": 13,
      "outputs": [
        {
          "output_type": "display_data",
          "data": {
            "image/png": "[encoded data removed]",
            "text/plain": [
              "<Figure size 432x288 with 1 Axes>"
            ]
          },
          "metadata": {
            "tags": [],
            "needs_background": "light"
          }
        },
        {
          "output_type": "display_data",
          "data": {
            "image/png": "[encoded data removed]",
            "text/plain": [
              "<Figure size 432x288 with 1 Axes>"
            ]
          },
          "metadata": {
            "tags": [],
            "needs_background": "light"
          }
        }
      ]
    },
    {
      "cell_type": "code",
      "metadata": {
        "id": "EtspUvgEUkVH",
        "colab_type": "code",
        "colab": {}
      },
      "source": [
        "X_train = X_train/255.0"
      ],
      "execution_count": 15,
      "outputs": []
    },
    {
      "cell_type": "code",
      "metadata": {
        "id": "gUGaYtse5Fny",
        "colab_type": "code",
        "colab": {}
      },
      "source": [
        "inputs = tf.keras.Input(shape=(28, 28, 1))\n",
        "A = tf.keras.layers.Conv2D(filters=16, kernel_size=(5, 5), strides=(1, 1), activation='relu')(inputs)\n",
        "A = tf.keras.layers.Conv2D(filters=32, kernel_size=(3, 3), strides=(1, 1), activation='relu')(A)\n",
        "A = tf.keras.layers.MaxPooling2D(pool_size=(3, 3), strides=(1, 1))(A)\n",
        "A = tf.keras.layers.Conv2D(filters=64, kernel_size=(3, 3), strides=(1, 1), activation='relu')(A)\n",
        "A = tf.keras.layers.Conv2D(filters=128, kernel_size=(3, 3), strides=(1, 1), activation='relu')(A)\n",
        "A = tf.keras.layers.MaxPooling2D(pool_size=(3, 3), strides=(1, 1))(A)\n",
        "A = tf.keras.layers.Conv2D(filters=128, kernel_size=(3, 3), strides=(1, 1), activation='relu')(A)\n",
        "A = tf.keras.layers.Conv2D(filters=128, kernel_size=(3, 3), strides=(1, 1), activation='relu')(A)\n",
        "A = tf.keras.layers.MaxPooling2D(pool_size=(3, 3), strides=(1, 1))(A)\n",
        "A = tf.keras.layers.Conv2D(filters=256, kernel_size=(3, 3), strides=(1, 1), activation='relu')(A)\n",
        "A = tf.keras.layers.MaxPooling2D(pool_size=(3, 3), strides=(1, 1))(A)\n",
        "A = tf.keras.layers.Flatten()(A)\n",
        "A = tf.keras.layers.Dense(128, activation='relu')(A)\n",
        "output = tf.keras.layers.Dense(10, activation='relu')(A)"
      ],
      "execution_count": 16,
      "outputs": []
    },
    {
      "cell_type": "code",
      "metadata": {
        "id": "SPW8Z5mpGcJC",
        "colab_type": "code",
        "colab": {
          "base_uri": "https://localhost:8080/",
          "height": 663
        },
        "outputId": "6794c79d-d902-4fce-9776-79341fbec141"
      },
      "source": [
        "model = tf.keras.Model(inputs=inputs, outputs= output, name='MNIST_Model1')\n",
        "model.compile(loss= tf.keras.losses.SparseCategoricalCrossentropy(from_logits=True), optimizer= tf.keras.optimizers.Adam(), metrics=['accuracy'])\n",
        "model.summary()"
      ],
      "execution_count": 17,
      "outputs": [
        {
          "output_type": "stream",
          "text": [
            "Model: \"MNIST_Model1\"\n",
            "_________________________________________________________________\n",
            "Layer (type)                 Output Shape              Param #   \n",
            "=================================================================\n",
            "input_1 (InputLayer)         [(None, 28, 28, 1)]       0         \n",
            "_________________________________________________________________\n",
            "conv2d (Conv2D)              (None, 24, 24, 16)        416       \n",
            "_________________________________________________________________\n",
            "conv2d_1 (Conv2D)            (None, 22, 22, 32)        4640      \n",
            "_________________________________________________________________\n",
            "max_pooling2d (MaxPooling2D) (None, 20, 20, 32)        0         \n",
            "_________________________________________________________________\n",
            "conv2d_2 (Conv2D)            (None, 18, 18, 64)        18496     \n",
            "_________________________________________________________________\n",
            "conv2d_3 (Conv2D)            (None, 16, 16, 128)       73856     \n",
            "_________________________________________________________________\n",
            "max_pooling2d_1 (MaxPooling2 (None, 14, 14, 128)       0         \n",
            "_________________________________________________________________\n",
            "conv2d_4 (Conv2D)            (None, 12, 12, 128)       147584    \n",
            "_________________________________________________________________\n",
            "conv2d_5 (Conv2D)            (None, 10, 10, 128)       147584    \n",
            "_________________________________________________________________\n",
            "max_pooling2d_2 (MaxPooling2 (None, 8, 8, 128)         0         \n",
            "_________________________________________________________________\n",
            "conv2d_6 (Conv2D)            (None, 6, 6, 256)         295168    \n",
            "_________________________________________________________________\n",
            "max_pooling2d_3 (MaxPooling2 (None, 4, 4, 256)         0         \n",
            "_________________________________________________________________\n",
            "flatten (Flatten)            (None, 4096)              0         \n",
            "_________________________________________________________________\n",
            "dense (Dense)                (None, 128)               524416    \n",
            "_________________________________________________________________\n",
            "dense_1 (Dense)              (None, 10)                1290      \n",
            "=================================================================\n",
            "Total params: 1,213,450\n",
            "Trainable params: 1,213,450\n",
            "Non-trainable params: 0\n",
            "_________________________________________________________________\n"
          ],
          "name": "stdout"
        }
      ]
    },
    {
      "cell_type": "code",
      "metadata": {
        "id": "K5ZtWodiOxZr",
        "colab_type": "code",
        "colab": {
          "base_uri": "https://localhost:8080/",
          "height": 1000
        },
        "outputId": "d6a50779-b504-4c1d-a1df-b2b029e2b82a"
      },
      "source": [
        "history1 = model.fit(x=X_train, y=Y_train, batch_size=2048, epochs=30, validation_split=0.25, verbose=2)"
      ],
      "execution_count": 18,
      "outputs": [
        {
          "output_type": "stream",
          "text": [
            "Epoch 1/30\n",
            "WARNING:tensorflow:Callbacks method `on_train_batch_end` is slow compared to the batch time (batch time: 0.1367s vs `on_train_batch_end` time: 0.3455s). Check your callbacks.\n",
            "22/22 - 16s - loss: 2.0473 - accuracy: 0.2760 - val_loss: 1.8140 - val_accuracy: 0.3965\n",
            "Epoch 2/30\n",
            "22/22 - 12s - loss: 1.4423 - accuracy: 0.5373 - val_loss: 1.1840 - val_accuracy: 0.6326\n",
            "Epoch 3/30\n",
            "22/22 - 12s - loss: 1.0661 - accuracy: 0.6614 - val_loss: 0.8315 - val_accuracy: 0.7277\n",
            "Epoch 4/30\n",
            "22/22 - 12s - loss: 0.6719 - accuracy: 0.7559 - val_loss: 0.5918 - val_accuracy: 0.7734\n",
            "Epoch 5/30\n",
            "22/22 - 12s - loss: 0.5778 - accuracy: 0.7764 - val_loss: 0.5566 - val_accuracy: 0.7803\n",
            "Epoch 6/30\n",
            "22/22 - 12s - loss: 0.5398 - accuracy: 0.7847 - val_loss: 0.5414 - val_accuracy: 0.7815\n",
            "Epoch 7/30\n",
            "22/22 - 12s - loss: 0.5288 - accuracy: 0.7864 - val_loss: 0.5345 - val_accuracy: 0.7833\n",
            "Epoch 8/30\n",
            "22/22 - 12s - loss: 0.5142 - accuracy: 0.7902 - val_loss: 0.5163 - val_accuracy: 0.7889\n",
            "Epoch 9/30\n",
            "22/22 - 12s - loss: 0.5071 - accuracy: 0.7914 - val_loss: 0.5111 - val_accuracy: 0.7887\n",
            "Epoch 10/30\n",
            "22/22 - 12s - loss: 0.5006 - accuracy: 0.7926 - val_loss: 0.5093 - val_accuracy: 0.7885\n",
            "Epoch 11/30\n",
            "22/22 - 12s - loss: 0.4956 - accuracy: 0.7940 - val_loss: 0.5043 - val_accuracy: 0.7903\n",
            "Epoch 12/30\n",
            "22/22 - 12s - loss: 0.4932 - accuracy: 0.7944 - val_loss: 0.5045 - val_accuracy: 0.7903\n",
            "Epoch 13/30\n",
            "22/22 - 12s - loss: 0.4917 - accuracy: 0.7949 - val_loss: 0.5079 - val_accuracy: 0.7883\n",
            "Epoch 14/30\n",
            "22/22 - 12s - loss: 0.4866 - accuracy: 0.7963 - val_loss: 0.5047 - val_accuracy: 0.7906\n",
            "Epoch 15/30\n",
            "22/22 - 12s - loss: 0.4861 - accuracy: 0.7958 - val_loss: 0.5084 - val_accuracy: 0.7893\n",
            "Epoch 16/30\n",
            "22/22 - 12s - loss: 0.4864 - accuracy: 0.7958 - val_loss: 0.5160 - val_accuracy: 0.7899\n",
            "Epoch 17/30\n",
            "22/22 - 12s - loss: 0.4826 - accuracy: 0.7966 - val_loss: 0.4919 - val_accuracy: 0.7933\n",
            "Epoch 18/30\n",
            "22/22 - 12s - loss: 0.4746 - accuracy: 0.7988 - val_loss: 0.4942 - val_accuracy: 0.7934\n",
            "Epoch 19/30\n",
            "22/22 - 12s - loss: 0.4738 - accuracy: 0.7988 - val_loss: 0.4934 - val_accuracy: 0.7934\n",
            "Epoch 20/30\n",
            "22/22 - 12s - loss: 0.4766 - accuracy: 0.7981 - val_loss: 0.5178 - val_accuracy: 0.7877\n",
            "Epoch 21/30\n",
            "22/22 - 12s - loss: 0.4853 - accuracy: 0.7962 - val_loss: 0.5003 - val_accuracy: 0.7909\n",
            "Epoch 22/30\n",
            "22/22 - 12s - loss: 0.4734 - accuracy: 0.7989 - val_loss: 0.4889 - val_accuracy: 0.7938\n",
            "Epoch 23/30\n",
            "22/22 - 12s - loss: 0.4698 - accuracy: 0.8000 - val_loss: 0.4917 - val_accuracy: 0.7935\n",
            "Epoch 24/30\n",
            "22/22 - 12s - loss: 0.4670 - accuracy: 0.8001 - val_loss: 0.4899 - val_accuracy: 0.7941\n",
            "Epoch 25/30\n",
            "22/22 - 12s - loss: 0.4663 - accuracy: 0.8007 - val_loss: 0.4883 - val_accuracy: 0.7944\n",
            "Epoch 26/30\n",
            "22/22 - 12s - loss: 0.4655 - accuracy: 0.8007 - val_loss: 0.4931 - val_accuracy: 0.7933\n",
            "Epoch 27/30\n",
            "22/22 - 12s - loss: 0.4656 - accuracy: 0.8008 - val_loss: 0.4897 - val_accuracy: 0.7937\n",
            "Epoch 28/30\n",
            "22/22 - 12s - loss: 0.4671 - accuracy: 0.8005 - val_loss: 0.4918 - val_accuracy: 0.7936\n",
            "Epoch 29/30\n",
            "22/22 - 12s - loss: 0.4631 - accuracy: 0.8017 - val_loss: 0.4896 - val_accuracy: 0.7949\n",
            "Epoch 30/30\n",
            "22/22 - 12s - loss: 0.4645 - accuracy: 0.8009 - val_loss: 0.4990 - val_accuracy: 0.7926\n"
          ],
          "name": "stdout"
        }
      ]
    },
    {
      "cell_type": "code",
      "metadata": {
        "id": "Q7tUIoSKV9Wj",
        "colab_type": "code",
        "colab": {}
      },
      "source": [
        "def plot_train_history(history, train_metrics, val_metrics):\n",
        "    plt.plot(history.history.get(train_metrics),'-o')\n",
        "    plt.plot(history.history.get(val_metrics),'-o')\n",
        "    plt.ylabel(train_metrics)\n",
        "    plt.xlabel('Epochs')\n",
        "    plt.legend(['train', 'validation'])\n"
      ],
      "execution_count": 19,
      "outputs": []
    },
    {
      "cell_type": "code",
      "metadata": {
        "id": "zHFRZxMtWDUB",
        "colab_type": "code",
        "colab": {
          "base_uri": "https://localhost:8080/",
          "height": 279
        },
        "outputId": "617f4bbb-a710-4779-f9ed-76ed2f00fda7"
      },
      "source": [
        "plt.figure(figsize=(12,4))\n",
        "plt.subplot(1,2,1)\n",
        "plot_train_history(history1, 'loss','val_loss')\n",
        "plt.subplot(1,2,2)\n",
        "plot_train_history(history1, 'accuracy','val_accuracy')"
      ],
      "execution_count": 20,
      "outputs": [
        {
          "output_type": "display_data",
          "data": {
            "image/png": "[encoded data removed]",
            "text/plain": [
              "<Figure size 864x288 with 2 Axes>"
            ]
          },
          "metadata": {
            "tags": [],
            "needs_background": "light"
          }
        }
      ]
    },
    {
      "cell_type": "code",
      "metadata": {
        "id": "iVk-KOnWOfMm",
        "colab_type": "code",
        "colab": {}
      },
      "source": [
        "class TestActivation(tf.keras.layers.Layer):\n",
        "  def __init__(self, Lambda = 0.5):\n",
        "    self.L = tf.Variable(Lambda, dtype='float32', trainable=True)\n",
        "    super(TestActivation, self).__init__()\n",
        "\n",
        "  def call(self, inputs):\n",
        "    A = self.L*tf.nn.relu(inputs) + (1 - self.L)*tf.nn.tanh(inputs)\n",
        "    return A\n"
      ],
      "execution_count": 37,
      "outputs": []
    },
    {
      "cell_type": "code",
      "metadata": {
        "id": "ooghYArCQZ9n",
        "colab_type": "code",
        "colab": {}
      },
      "source": [
        "inputs1 = tf.keras.Input(shape=(28, 28, 1))\n",
        "B = tf.keras.layers.Conv2D(filters=16, kernel_size=(5, 5), strides=(1, 1))(inputs1)\n",
        "L1 = TestActivation()\n",
        "B = L1(B)\n",
        "B = tf.keras.layers.Conv2D(filters=32, kernel_size=(3, 3), strides=(1, 1))(B)\n",
        "L2 = TestActivation()\n",
        "B = L2(B)\n",
        "B = tf.keras.layers.MaxPooling2D(pool_size=(3, 3), strides=(1, 1))(B)\n",
        "B = tf.keras.layers.Conv2D(filters=64, kernel_size=(3, 3), strides=(1, 1))(B)\n",
        "L3 = TestActivation()\n",
        "B = L3(B)\n",
        "B = tf.keras.layers.Conv2D(filters=128, kernel_size=(3, 3), strides=(1, 1))(B)\n",
        "L4 = TestActivation()\n",
        "B = L4(B)\n",
        "B = tf.keras.layers.MaxPooling2D(pool_size=(3, 3), strides=(1, 1))(B)\n",
        "B = tf.keras.layers.Conv2D(filters=128, kernel_size=(3, 3), strides=(1, 1))(B)\n",
        "L5 = TestActivation()\n",
        "B = L5(B)\n",
        "B = tf.keras.layers.Conv2D(filters=128, kernel_size=(3, 3), strides=(1, 1))(B)\n",
        "L6 = TestActivation()\n",
        "B = L6(B)\n",
        "B = tf.keras.layers.MaxPooling2D(pool_size=(3, 3), strides=(1, 1))(B)\n",
        "B = tf.keras.layers.Conv2D(filters=256, kernel_size=(3, 3), strides=(1, 1))(B)\n",
        "L7 = TestActivation()\n",
        "B = L7(B)\n",
        "B = tf.keras.layers.MaxPooling2D(pool_size=(3, 3), strides=(1, 1))(B)\n",
        "B = tf.keras.layers.Flatten()(B)\n",
        "B = tf.keras.layers.Dense(128)(B)\n",
        "L8 = TestActivation()\n",
        "B = L8(B)\n",
        "output1 = tf.keras.layers.Dense(10, activation='relu')(B)\n"
      ],
      "execution_count": 46,
      "outputs": []
    },
    {
      "cell_type": "code",
      "metadata": {
        "id": "Px1g8cIuRl3i",
        "colab_type": "code",
        "colab": {
          "base_uri": "https://localhost:8080/",
          "height": 935
        },
        "outputId": "0fbc61ed-0077-4172-ccd4-b4b21227cbdd"
      },
      "source": [
        "model2 = tf.keras.Model(inputs=inputs1, outputs= output1, name='MNIST_Model2')\n",
        "model2.compile(loss= tf.keras.losses.SparseCategoricalCrossentropy(from_logits=True), optimizer= 'adam', metrics=['accuracy'])\n",
        "model2.summary()"
      ],
      "execution_count": 47,
      "outputs": [
        {
          "output_type": "stream",
          "text": [
            "Model: \"MNIST_Model2\"\n",
            "_________________________________________________________________\n",
            "Layer (type)                 Output Shape              Param #   \n",
            "=================================================================\n",
            "input_8 (InputLayer)         [(None, 28, 28, 1)]       0         \n",
            "_________________________________________________________________\n",
            "conv2d_25 (Conv2D)           (None, 24, 24, 16)        416       \n",
            "_________________________________________________________________\n",
            "test_activation_16 (TestActi (None, 24, 24, 16)        1         \n",
            "_________________________________________________________________\n",
            "conv2d_26 (Conv2D)           (None, 22, 22, 32)        4640      \n",
            "_________________________________________________________________\n",
            "test_activation_17 (TestActi (None, 22, 22, 32)        1         \n",
            "_________________________________________________________________\n",
            "max_pooling2d_12 (MaxPooling (None, 20, 20, 32)        0         \n",
            "_________________________________________________________________\n",
            "conv2d_27 (Conv2D)           (None, 18, 18, 64)        18496     \n",
            "_________________________________________________________________\n",
            "test_activation_18 (TestActi (None, 18, 18, 64)        1         \n",
            "_________________________________________________________________\n",
            "conv2d_28 (Conv2D)           (None, 16, 16, 128)       73856     \n",
            "_________________________________________________________________\n",
            "test_activation_19 (TestActi (None, 16, 16, 128)       1         \n",
            "_________________________________________________________________\n",
            "max_pooling2d_13 (MaxPooling (None, 14, 14, 128)       0         \n",
            "_________________________________________________________________\n",
            "conv2d_29 (Conv2D)           (None, 12, 12, 128)       147584    \n",
            "_________________________________________________________________\n",
            "test_activation_20 (TestActi (None, 12, 12, 128)       1         \n",
            "_________________________________________________________________\n",
            "conv2d_30 (Conv2D)           (None, 10, 10, 128)       147584    \n",
            "_________________________________________________________________\n",
            "test_activation_21 (TestActi (None, 10, 10, 128)       1         \n",
            "_________________________________________________________________\n",
            "max_pooling2d_14 (MaxPooling (None, 8, 8, 128)         0         \n",
            "_________________________________________________________________\n",
            "conv2d_31 (Conv2D)           (None, 6, 6, 256)         295168    \n",
            "_________________________________________________________________\n",
            "test_activation_22 (TestActi (None, 6, 6, 256)         1         \n",
            "_________________________________________________________________\n",
            "max_pooling2d_15 (MaxPooling (None, 4, 4, 256)         0         \n",
            "_________________________________________________________________\n",
            "flatten_5 (Flatten)          (None, 4096)              0         \n",
            "_________________________________________________________________\n",
            "dense_10 (Dense)             (None, 128)               524416    \n",
            "_________________________________________________________________\n",
            "test_activation_23 (TestActi (None, 128)               1         \n",
            "_________________________________________________________________\n",
            "dense_11 (Dense)             (None, 10)                1290      \n",
            "=================================================================\n",
            "Total params: 1,213,458\n",
            "Trainable params: 1,213,458\n",
            "Non-trainable params: 0\n",
            "_________________________________________________________________\n"
          ],
          "name": "stdout"
        }
      ]
    },
    {
      "cell_type": "code",
      "metadata": {
        "id": "ppm9reMfT7B2",
        "colab_type": "code",
        "colab": {
          "base_uri": "https://localhost:8080/",
          "height": 1000
        },
        "outputId": "776a1b4b-2199-4801-bda3-b5c679ceb951"
      },
      "source": [
        "history2 = model2.fit(x=X_train, y=Y_train, batch_size=2048, epochs=30, validation_split=0.25, verbose=2)"
      ],
      "execution_count": 48,
      "outputs": [
        {
          "output_type": "stream",
          "text": [
            "Epoch 1/30\n",
            "WARNING:tensorflow:Callbacks method `on_train_batch_end` is slow compared to the batch time (batch time: 0.2370s vs `on_train_batch_end` time: 0.5291s). Check your callbacks.\n",
            "22/22 - 20s - loss: 1.5768 - accuracy: 0.4429 - val_loss: 0.6283 - val_accuracy: 0.7985\n",
            "Epoch 2/30\n",
            "22/22 - 18s - loss: 0.3416 - accuracy: 0.8956 - val_loss: 0.1864 - val_accuracy: 0.9418\n",
            "Epoch 3/30\n",
            "22/22 - 18s - loss: 0.1350 - accuracy: 0.9575 - val_loss: 0.1043 - val_accuracy: 0.9679\n",
            "Epoch 4/30\n",
            "22/22 - 18s - loss: 0.0849 - accuracy: 0.9742 - val_loss: 0.0834 - val_accuracy: 0.9741\n",
            "Epoch 5/30\n",
            "22/22 - 18s - loss: 0.0663 - accuracy: 0.9789 - val_loss: 0.0753 - val_accuracy: 0.9777\n",
            "Epoch 6/30\n",
            "22/22 - 18s - loss: 0.0585 - accuracy: 0.9817 - val_loss: 0.0701 - val_accuracy: 0.9780\n",
            "Epoch 7/30\n",
            "22/22 - 18s - loss: 0.0490 - accuracy: 0.9848 - val_loss: 0.0579 - val_accuracy: 0.9827\n",
            "Epoch 8/30\n",
            "22/22 - 18s - loss: 0.0402 - accuracy: 0.9874 - val_loss: 0.0528 - val_accuracy: 0.9834\n",
            "Epoch 9/30\n",
            "22/22 - 18s - loss: 0.0361 - accuracy: 0.9886 - val_loss: 0.0547 - val_accuracy: 0.9840\n",
            "Epoch 10/30\n",
            "22/22 - 18s - loss: 0.0298 - accuracy: 0.9904 - val_loss: 0.0531 - val_accuracy: 0.9831\n",
            "Epoch 11/30\n",
            "22/22 - 18s - loss: 0.0282 - accuracy: 0.9910 - val_loss: 0.0493 - val_accuracy: 0.9855\n",
            "Epoch 12/30\n",
            "22/22 - 18s - loss: 0.0266 - accuracy: 0.9917 - val_loss: 0.0583 - val_accuracy: 0.9841\n",
            "Epoch 13/30\n",
            "22/22 - 18s - loss: 0.0268 - accuracy: 0.9912 - val_loss: 0.0458 - val_accuracy: 0.9866\n",
            "Epoch 14/30\n",
            "22/22 - 18s - loss: 0.0229 - accuracy: 0.9926 - val_loss: 0.0448 - val_accuracy: 0.9870\n",
            "Epoch 15/30\n",
            "22/22 - 18s - loss: 0.0193 - accuracy: 0.9941 - val_loss: 0.0424 - val_accuracy: 0.9881\n",
            "Epoch 16/30\n",
            "22/22 - 18s - loss: 0.0169 - accuracy: 0.9947 - val_loss: 0.0476 - val_accuracy: 0.9871\n",
            "Epoch 17/30\n",
            "22/22 - 18s - loss: 0.0160 - accuracy: 0.9949 - val_loss: 0.0418 - val_accuracy: 0.9887\n",
            "Epoch 18/30\n",
            "22/22 - 18s - loss: 0.0192 - accuracy: 0.9938 - val_loss: 0.0483 - val_accuracy: 0.9863\n",
            "Epoch 19/30\n",
            "22/22 - 18s - loss: 0.0170 - accuracy: 0.9944 - val_loss: 0.0458 - val_accuracy: 0.9863\n",
            "Epoch 20/30\n",
            "22/22 - 18s - loss: 0.0150 - accuracy: 0.9947 - val_loss: 0.0451 - val_accuracy: 0.9866\n",
            "Epoch 21/30\n",
            "22/22 - 18s - loss: 0.0139 - accuracy: 0.9951 - val_loss: 0.0380 - val_accuracy: 0.9899\n",
            "Epoch 22/30\n",
            "22/22 - 18s - loss: 0.0131 - accuracy: 0.9956 - val_loss: 0.0453 - val_accuracy: 0.9877\n",
            "Epoch 23/30\n",
            "22/22 - 18s - loss: 0.0112 - accuracy: 0.9966 - val_loss: 0.0443 - val_accuracy: 0.9888\n",
            "Epoch 24/30\n",
            "22/22 - 18s - loss: 0.0092 - accuracy: 0.9971 - val_loss: 0.0430 - val_accuracy: 0.9886\n",
            "Epoch 25/30\n",
            "22/22 - 18s - loss: 0.0085 - accuracy: 0.9971 - val_loss: 0.0482 - val_accuracy: 0.9874\n",
            "Epoch 26/30\n",
            "22/22 - 18s - loss: 0.0114 - accuracy: 0.9962 - val_loss: 0.0413 - val_accuracy: 0.9898\n",
            "Epoch 27/30\n",
            "22/22 - 18s - loss: 0.0074 - accuracy: 0.9975 - val_loss: 0.0424 - val_accuracy: 0.9883\n",
            "Epoch 28/30\n",
            "22/22 - 18s - loss: 0.0074 - accuracy: 0.9975 - val_loss: 0.0469 - val_accuracy: 0.9884\n",
            "Epoch 29/30\n",
            "22/22 - 18s - loss: 0.0101 - accuracy: 0.9965 - val_loss: 0.0506 - val_accuracy: 0.9865\n",
            "Epoch 30/30\n",
            "22/22 - 18s - loss: 0.0115 - accuracy: 0.9957 - val_loss: 0.0432 - val_accuracy: 0.9895\n"
          ],
          "name": "stdout"
        }
      ]
    },
    {
      "cell_type": "code",
      "metadata": {
        "id": "tEGrXTunaSlT",
        "colab_type": "code",
        "colab": {
          "base_uri": "https://localhost:8080/",
          "height": 34
        },
        "outputId": "f696be05-8129-4bb3-d752-02bde2934972"
      },
      "source": [
        "L1.L"
      ],
      "execution_count": 49,
      "outputs": [
        {
          "output_type": "execute_result",
          "data": {
            "text/plain": [
              "<tf.Variable 'Variable:0' shape=() dtype=float32, numpy=0.49106556>"
            ]
          },
          "metadata": {
            "tags": []
          },
          "execution_count": 49
        }
      ]
    },
    {
      "cell_type": "code",
      "metadata": {
        "id": "pHrGriWFaggF",
        "colab_type": "code",
        "colab": {
          "base_uri": "https://localhost:8080/",
          "height": 34
        },
        "outputId": "5bc6c517-9f50-42fa-9efc-d6557dbec3e4"
      },
      "source": [
        "L2.L"
      ],
      "execution_count": 50,
      "outputs": [
        {
          "output_type": "execute_result",
          "data": {
            "text/plain": [
              "<tf.Variable 'Variable:0' shape=() dtype=float32, numpy=0.49769127>"
            ]
          },
          "metadata": {
            "tags": []
          },
          "execution_count": 50
        }
      ]
    },
    {
      "cell_type": "code",
      "metadata": {
        "id": "NAPgRrpQanzA",
        "colab_type": "code",
        "colab": {
          "base_uri": "https://localhost:8080/",
          "height": 34
        },
        "outputId": "adf6a39e-4752-47d2-e283-431639d3a0ab"
      },
      "source": [
        "L3.L"
      ],
      "execution_count": 51,
      "outputs": [
        {
          "output_type": "execute_result",
          "data": {
            "text/plain": [
              "<tf.Variable 'Variable:0' shape=() dtype=float32, numpy=0.49737808>"
            ]
          },
          "metadata": {
            "tags": []
          },
          "execution_count": 51
        }
      ]
    },
    {
      "cell_type": "code",
      "metadata": {
        "id": "kmJZn-dccdqP",
        "colab_type": "code",
        "colab": {
          "base_uri": "https://localhost:8080/",
          "height": 54
        },
        "outputId": "253736e4-aa9a-4c6c-b960-bcce55d2b656"
      },
      "source": [
        "print(L4.L, L5.L, L6.L, L7.L, L8.L)"
      ],
      "execution_count": 52,
      "outputs": [
        {
          "output_type": "stream",
          "text": [
            "<tf.Variable 'Variable:0' shape=() dtype=float32, numpy=0.49244547> <tf.Variable 'Variable:0' shape=() dtype=float32, numpy=0.5207312> <tf.Variable 'Variable:0' shape=() dtype=float32, numpy=0.47322485> <tf.Variable 'Variable:0' shape=() dtype=float32, numpy=0.4618321> <tf.Variable 'Variable:0' shape=() dtype=float32, numpy=0.58883303>\n"
          ],
          "name": "stdout"
        }
      ]
    },
    {
      "cell_type": "code",
      "metadata": {
        "id": "M25yf_08cwwz",
        "colab_type": "code",
        "colab": {
          "base_uri": "https://localhost:8080/",
          "height": 279
        },
        "outputId": "697297d5-274b-4953-e076-62280a13b898"
      },
      "source": [
        "plt.figure(figsize=(12,4))\n",
        "plt.subplot(1,2,1)\n",
        "plot_train_history(history2, 'loss','val_loss')\n",
        "plt.subplot(1,2,2)\n",
        "plot_train_history(history2, 'accuracy','val_accuracy')"
      ],
      "execution_count": 53,
      "outputs": [
        {
          "output_type": "display_data",
          "data": {
            "image/png": "[encoded data removed]",
            "text/plain": [
              "<Figure size 864x288 with 2 Axes>"
            ]
          },
          "metadata": {
            "tags": [],
            "needs_background": "light"
          }
        }
      ]
    },
    {
      "cell_type": "code",
      "metadata": {
        "id": "mp08vzqUUY03",
        "colab_type": "code",
        "colab": {}
      },
      "source": [
        "X_test = X_test/255.0"
      ],
      "execution_count": 54,
      "outputs": []
    },
    {
      "cell_type": "code",
      "metadata": {
        "id": "d0zerFScc5mz",
        "colab_type": "code",
        "colab": {}
      },
      "source": [
        "from sklearn.metrics import accuracy_score"
      ],
      "execution_count": 56,
      "outputs": []
    },
    {
      "cell_type": "code",
      "metadata": {
        "id": "YTIDR4yYTmw2",
        "colab_type": "code",
        "colab": {
          "base_uri": "https://localhost:8080/",
          "height": 34
        },
        "outputId": "34d8144f-c9ea-4001-94bb-033bf7177a71"
      },
      "source": [
        "Y_pred = model.predict(x=X_test)\n",
        "Y_label = np.argmax(Y_pred, axis=1)\n",
        "acc_generic = accuracy_score(Y_test, Y_label)\n",
        "print(acc_generic)"
      ],
      "execution_count": 57,
      "outputs": [
        {
          "output_type": "stream",
          "text": [
            "0.8008\n"
          ],
          "name": "stdout"
        }
      ]
    },
    {
      "cell_type": "code",
      "metadata": {
        "id": "uF6G9qv-dR9A",
        "colab_type": "code",
        "colab": {
          "base_uri": "https://localhost:8080/",
          "height": 34
        },
        "outputId": "dfd64b46-f526-4cb0-d59d-537c2b728ff9"
      },
      "source": [
        "Y_pred_cus = model2.predict(x=X_test)\n",
        "Y_label_cus = np.argmax(Y_pred_cus, axis=1)\n",
        "acc_cus = accuracy_score(Y_test, Y_label_cus)\n",
        "print(acc_cus)"
      ],
      "execution_count": 58,
      "outputs": [
        {
          "output_type": "stream",
          "text": [
            "0.9921\n"
          ],
          "name": "stdout"
        }
      ]
    },
    {
      "cell_type": "code",
      "metadata": {
        "id": "2Pce9JmWcwg0",
        "colab_type": "code",
        "colab": {}
      },
      "source": [
        ""
      ],
      "execution_count": null,
      "outputs": []
    }
  ]
}